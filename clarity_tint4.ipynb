version https://git-lfs.github.com/spec/v1
oid sha256:57e14e8e1500b27882d789e0b2bd29f5252abc0a44b117aa327401547ef04c24
size 87383701
