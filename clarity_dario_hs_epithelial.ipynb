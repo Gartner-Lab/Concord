version https://git-lfs.github.com/spec/v1
oid sha256:a8bfc4100afc0bbb6be0ba514f7435f06a141ec22bd5a8f2f853da6acd9c4976
size 125011711
